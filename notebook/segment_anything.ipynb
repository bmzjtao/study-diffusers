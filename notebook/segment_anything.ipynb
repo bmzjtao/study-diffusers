{
 "cells": [
  {
   "cell_type": "markdown",
   "metadata": {},
   "source": [
    "# segment-anything "
   ]
  },
  {
   "cell_type": "code",
   "execution_count": null,
   "metadata": {},
   "outputs": [],
   "source": [
    "# !pip install git+https://github.com/facebookresearch/segment-anything.git"
   ]
  },
  {
   "cell_type": "markdown",
   "metadata": {},
   "source": [
    "导入库,加载模型"
   ]
  },
  {
   "cell_type": "code",
   "execution_count": 1,
   "metadata": {},
   "outputs": [],
   "source": [
    "import numpy as np\n",
    "import gradio as gr\n",
    "from PIL import Image, ImageDraw\n",
    "from segment_anything import sam_model_registry, SamPredictor\n",
    "sam_checkpoint = \"/home/zjt/model/sam_vit_h_4b8939.pth\"\n",
    "sam = sam_model_registry[\"vit_h\"](checkpoint=sam_checkpoint)\n",
    "sam.to(\"cuda\")\n",
    "predictor = SamPredictor(sam)"
   ]
  },
  {
   "cell_type": "code",
   "execution_count": 2,
   "metadata": {},
   "outputs": [
    {
     "name": "stdout",
     "output_type": "stream",
     "text": [
      "Running on local URL:  http://127.0.0.1:7860\n",
      "\n",
      "To create a public link, set `share=True` in `launch()`.\n"
     ]
    },
    {
     "data": {
      "text/html": [
       "<div><iframe src=\"http://127.0.0.1:7860/\" width=\"100%\" height=\"500\" allow=\"autoplay; camera; microphone; clipboard-read; clipboard-write;\" frameborder=\"0\" allowfullscreen></iframe></div>"
      ],
      "text/plain": [
       "<IPython.core.display.HTML object>"
      ]
     },
     "metadata": {},
     "output_type": "display_data"
    },
    {
     "data": {
      "text/plain": []
     },
     "execution_count": 2,
     "metadata": {},
     "output_type": "execute_result"
    }
   ],
   "source": [
    "\n",
    "# 点击图片时画个点在上面\n",
    "def on_click_image(image, global_state, evt: gr.SelectData):\n",
    "    radius_scale= 0.01\n",
    "    p_color = (255, 0, 0)\n",
    "    xy = evt.index\n",
    "    if global_state['img'] is None:\n",
    "        global_state['img'] = image\n",
    "    global_state['points'].append(xy)\n",
    "    overlay_rgba = Image.new(\"RGBA\", image.size, 0)\n",
    "    overlay_draw = ImageDraw.Draw(overlay_rgba)\n",
    "    rad_draw = int(image.size[0] * radius_scale)\n",
    "    for p in global_state['points']:\n",
    "        p_draw = int(p[0]), int(p[1])\n",
    "        overlay_draw.ellipse(\n",
    "            (\n",
    "                p_draw[0] - rad_draw,\n",
    "                p_draw[1] - rad_draw,\n",
    "                p_draw[0] + rad_draw,\n",
    "                p_draw[1] + rad_draw,\n",
    "            ),\n",
    "            fill=p_color,\n",
    "        )\n",
    "    image_draw =  Image.alpha_composite(image.convert(\"RGBA\"), overlay_rgba).convert(\"RGB\")\n",
    "    return image_draw,global_state\n",
    "\n",
    "# 推理时画上mask\n",
    "def run_predict(img,global_state):\n",
    "    image = np.array(global_state['img'])\n",
    "    predictor.set_image(image)\n",
    "    input_point = np.array(global_state['points'])\n",
    "    input_label = np.array([1]*len(global_state['points']))\n",
    "    if global_state['mask_input'] is None:\n",
    "        masks, scores, logits = predictor.predict(\n",
    "        point_coords=input_point,\n",
    "        point_labels=input_label,\n",
    "        multimask_output=True,\n",
    "    )\n",
    "        global_state['mask_input'] = logits[np.argmax(scores), :, :]\n",
    "    else:\n",
    "        masks, _, _ = predictor.predict(\n",
    "        point_coords=input_point,\n",
    "        point_labels=input_label,\n",
    "        mask_input=global_state['mask_input'][None, :, :],\n",
    "        multimask_output=False,\n",
    "    )\n",
    "    im_mask = np.uint8(masks[0] * 255)\n",
    "    im_mask = Image.fromarray(im_mask)\n",
    "    im_mask.save('tmp.png')\n",
    "    image_draw = Image.blend(img, im_mask.convert('RGB'), 0.5)\n",
    "    return image_draw,global_state\n",
    "    \n",
    "   \n",
    "with gr.Blocks() as demo:\n",
    "    global_state = gr.State({'img':None,'points':[],'mask_input':None})\n",
    "    im = gr.Image(type='pil',value='/home/zjt/workspace/img2img/AnyDoor/examples/Gradio/FG/10036.jpg')\n",
    "    \n",
    "    im.select(\n",
    "        on_click_image,\n",
    "        inputs=[im, global_state],\n",
    "        outputs=[im,global_state],\n",
    "        queue=False,\n",
    "    )\n",
    "    btn = gr.Button()\n",
    "    btn.click(fn=run_predict,inputs=[im,global_state],outputs=[im,global_state])\n",
    "demo.launch()"
   ]
  }
 ],
 "metadata": {
  "kernelspec": {
   "display_name": "Python 3 (ipykernel)",
   "language": "python",
   "name": "python3"
  },
  "language_info": {
   "codemirror_mode": {
    "name": "ipython",
    "version": 3
   },
   "file_extension": ".py",
   "mimetype": "text/x-python",
   "name": "python",
   "nbconvert_exporter": "python",
   "pygments_lexer": "ipython3",
   "version": "3.9.12"
  }
 },
 "nbformat": 4,
 "nbformat_minor": 2
}
